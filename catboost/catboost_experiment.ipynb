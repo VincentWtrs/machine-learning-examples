{
 "cells": [
  {
   "cell_type": "markdown",
   "id": "275a799b",
   "metadata": {},
   "source": [
    "# Introduction"
   ]
  },
  {
   "cell_type": "markdown",
   "id": "ae9ba9c1",
   "metadata": {},
   "source": [
    "CatBoost seems to be THE go-to option for supervised learning on tabular data, especially when dealing with a lot of categorical features. Let's check it out!\n",
    "\n",
    "Original date: 03/04/2022 || Last update: 23/06/2024"
   ]
  },
  {
   "cell_type": "markdown",
   "id": "4f092934",
   "metadata": {},
   "source": [
    "# Installation"
   ]
  },
  {
   "cell_type": "markdown",
   "id": "dc6b9ddb",
   "metadata": {},
   "source": [
    "For installation through Conda/Mamba, see: https://catboost.ai/en/docs/installation/python-installation-method-conda-install. E.g. `mamba install catboost=1.2.3`. In a modern Python environment."
   ]
  },
  {
   "cell_type": "markdown",
   "id": "70d6587c",
   "metadata": {},
   "source": [
    "# Workspace Preparation"
   ]
  },
  {
   "cell_type": "code",
   "execution_count": 8,
   "id": "674cb6af",
   "metadata": {
    "ExecuteTime": {
     "end_time": "2024-05-05T08:45:52.246245Z",
     "start_time": "2024-05-05T08:45:52.230024Z"
    }
   },
   "outputs": [],
   "source": [
    "import numpy as np\n",
    "import pandas as pd\n",
    "import matplotlib.pyplot as plt\n",
    "\n",
    "from sklearn.impute import SimpleImputer\n",
    "from sklearn.model_selection import RandomizedSearchCV, train_test_split, KFold\n",
    "from sklearn.metrics import r2_score\n",
    "from sklearn.datasets import fetch_openml\n",
    "from catboost import CatBoostClassifier, CatBoostRegressor, Pool"
   ]
  },
  {
   "cell_type": "code",
   "execution_count": 9,
   "id": "70f4c9a9",
   "metadata": {
    "ExecuteTime": {
     "end_time": "2024-04-28T09:16:36.586391Z",
     "start_time": "2024-04-28T09:16:36.558577Z"
    }
   },
   "outputs": [],
   "source": [
    "plt.style.use('ggplot')"
   ]
  },
  {
   "cell_type": "markdown",
   "id": "cf1d7b61",
   "metadata": {},
   "source": [
    "# Regression Examples"
   ]
  },
  {
   "cell_type": "markdown",
   "id": "b520ae0c",
   "metadata": {},
   "source": [
    "Let's use the common `Ames` house prices dataset by loading it in via `fetch_openml`."
   ]
  },
  {
   "cell_type": "code",
   "execution_count": 10,
   "id": "0d6546b7",
   "metadata": {
    "ExecuteTime": {
     "end_time": "2024-04-28T09:16:37.221686Z",
     "start_time": "2024-04-28T09:16:36.979770Z"
    }
   },
   "outputs": [],
   "source": [
    "# Loading Ames housing data\n",
    "housing = fetch_openml(name='house_prices', as_frame=True, parser='auto')\n",
    "X = housing['data'].set_index('Id')\n",
    "y = housing['target']"
   ]
  },
  {
   "cell_type": "markdown",
   "id": "6b0e0d1e",
   "metadata": {},
   "source": [
    "To keep training time down we will use a limited selection of (reasonable) features and already subdivide them into numerical and categorical features."
   ]
  },
  {
   "cell_type": "code",
   "execution_count": 11,
   "id": "7742529c",
   "metadata": {
    "ExecuteTime": {
     "end_time": "2024-04-28T09:16:37.706138Z",
     "start_time": "2024-04-28T09:16:37.688266Z"
    }
   },
   "outputs": [],
   "source": [
    "# Selecting some features to work with\n",
    "# Separate them into cat/num to allow different preproceesing\n",
    "num_feat_names = [\n",
    "    'OverallQual', 'OverallCond', 'YearBuilt', 'MasVnrArea',\n",
    "    'TotalBsmtSF', '1stFlrSF', '2ndFlrSF', 'GrLivArea'\n",
    "]\n",
    "cat_feat_names = [\n",
    "    'Street', 'LotShape', 'Neighborhood', 'BldgType', 'HouseStyle',\n",
    "    'RoofStyle', 'ExterQual', 'ExterCond', 'Heating', 'KitchenQual',\n",
    "    'GarageType'\n",
    "]\n",
    "feat_names = num_feat_names + cat_feat_names"
   ]
  },
  {
   "cell_type": "markdown",
   "id": "582dd337",
   "metadata": {},
   "source": [
    "Since CatBoost cannot handle `NaN` values __for the categorical features__, we will replace those missing values by something like the string value `UNKNOWN`."
   ]
  },
  {
   "cell_type": "code",
   "execution_count": 12,
   "id": "f5c3bc93",
   "metadata": {
    "ExecuteTime": {
     "end_time": "2024-04-28T09:16:38.491939Z",
     "start_time": "2024-04-28T09:16:38.424859Z"
    }
   },
   "outputs": [
    {
     "name": "stdout",
     "output_type": "stream",
     "text": [
      "The following (1) categorical features contain NaN values: ['GarageType']\n"
     ]
    }
   ],
   "source": [
    "# CatBoost cannot handle 'NaN' values for the (categorical?) columns\n",
    "# Checking which categorical columns have NaN values \n",
    "cat_feat_missing_names = X[cat_feat_names].columns[X[cat_feat_names].isna().sum() > 0].to_list()\n",
    "print(f\"The following ({len(cat_feat_missing_names)}) categorical features contain NaN values: {cat_feat_missing_names}\")\n",
    "\n",
    "# Replacing those NaN values with 'UNKNOWN' (since it's only 'GarageType' at this moment)\n",
    "imputer = SimpleImputer(strategy=\"constant\", fill_value=\"UNKNOWN\")\n",
    "imputer.fit(X=X[cat_feat_missing_names])\n",
    "X[cat_feat_missing_names] = imputer.transform(X=X[cat_feat_missing_names])"
   ]
  },
  {
   "cell_type": "code",
   "execution_count": 16,
   "id": "21c9308a",
   "metadata": {
    "ExecuteTime": {
     "end_time": "2024-04-28T09:16:39.033477Z",
     "start_time": "2024-04-28T09:16:38.978385Z"
    }
   },
   "outputs": [
    {
     "name": "stdout",
     "output_type": "stream",
     "text": [
      "Training set size: 1168 rows, test set size: 292 rows\n"
     ]
    }
   ],
   "source": [
    "# Split data into train, test\n",
    "X_train, X_test, y_train, y_test = train_test_split(X, y, test_size=0.2)\n",
    "print(f\"Training set size: {len(y_train)} rows, test set size: {len(y_test)} rows\")"
   ]
  },
  {
   "cell_type": "markdown",
   "id": "c5644aa4",
   "metadata": {},
   "source": [
    "The custom type of data frame called the `Pool` is the magic sauce that enables fast fitting of CatBoost models. We can convert Pandas DataFrames easily to a `Pool` object as follows:"
   ]
  },
  {
   "cell_type": "code",
   "execution_count": 17,
   "id": "d4c4d1cf",
   "metadata": {
    "ExecuteTime": {
     "end_time": "2024-04-28T09:16:40.262163Z",
     "start_time": "2024-04-28T09:16:40.140938Z"
    }
   },
   "outputs": [],
   "source": [
    "# Making the Pandas DataFrame a CatBoost 'Pool' data object\n",
    "df_train_catboost = Pool(data=X_train[feat_names],\n",
    "                         label=y_train,\n",
    "                         cat_features=cat_feat_names)\n",
    "\n",
    "df_test_catboost = Pool(data=X_test[feat_names],\n",
    "                        label=y_test,\n",
    "                        cat_features=cat_feat_names)"
   ]
  },
  {
   "cell_type": "markdown",
   "id": "58fbeac0",
   "metadata": {},
   "source": [
    "## Single Fit"
   ]
  },
  {
   "cell_type": "markdown",
   "id": "47b85715",
   "metadata": {},
   "source": [
    "Firstly, let's check out how a singular fit, i.e. with a single given set of hyperparameter values can be done."
   ]
  },
  {
   "cell_type": "code",
   "execution_count": 18,
   "id": "321edc0d",
   "metadata": {},
   "outputs": [
    {
     "name": "stdout",
     "output_type": "stream",
     "text": [
      "R2 on training set: 0.905, R2 on test set: 0.864\n"
     ]
    }
   ],
   "source": [
    "# Single fit\n",
    "model = CatBoostRegressor(loss_function='RMSE',\n",
    "                          depth=3,\n",
    "                          learning_rate=0.05,\n",
    "                          iterations=150,\n",
    "                          subsample=0.8,\n",
    "                          l2_leaf_reg=0.1,\n",
    "                          random_seed=42,\n",
    "                          verbose=0)\n",
    "model.fit(df_train_catboost)  # The 'Pool' object contains both X and y\n",
    "\n",
    "# Predictions on train and test set\n",
    "y_hat_train = model.predict(df_train_catboost)\n",
    "y_hat_test = model.predict(df_test_catboost)\n",
    "\n",
    "# Check performances\n",
    "r2_train = r2_score(y_true=y_train, y_pred=y_hat_train)\n",
    "r2_test = r2_score(y_true=y_test, y_pred=y_hat_test)\n",
    "print(f\"R2 on training set: {r2_train:.3f}, R2 on test set: {r2_test:.3f}\")"
   ]
  },
  {
   "cell_type": "markdown",
   "id": "1108073f",
   "metadata": {},
   "source": [
    "## Hyperparameter Tuning"
   ]
  },
  {
   "cell_type": "markdown",
   "id": "95d09c3c",
   "metadata": {},
   "source": [
    "Let's take a look at what hyperparameters you can tune and what good values would potentially be."
   ]
  },
  {
   "cell_type": "code",
   "execution_count": 24,
   "id": "5c60ca8b",
   "metadata": {
    "ExecuteTime": {
     "end_time": "2024-05-05T09:04:20.988422Z",
     "start_time": "2024-05-05T09:04:20.882302Z"
    }
   },
   "outputs": [],
   "source": [
    "# Large candidate hyperparameter grid\n",
    "catboost_potential_values = {\n",
    "    \"loss_function\": [\"RMSE\", \"MAE\", \"MAPE\", \"Poisson\", \"Quantile\", \n",
    "                      \"MultiQuantile\", \"Huber\", \"Tweedie\", \"Cox\", \"SurvivalAft\"],\n",
    "    \"eval_metric\": [\"RMSE\", \"R2\", \"MAE\", \"MedianAbsoluteError\", \"MAE\", \"MAPE\", \n",
    "                    \"Poisson\", \"Quantile\", \"MultiQuantile\", \"Tweedie\", \"Cox\", \"SurvivalAft\"],\n",
    "    \"depth\": np.arange(1, 10),\n",
    "    \"learning_rate\": [10**(-i) for i in range(1, 11)], # has synonym \"eta\"\n",
    "    \"iterations\": [100, 250, 500, 750, 1000],\n",
    "    \"subsample\": [0.1, 0.2, 0.4, 0.6, 0.8, 0.9, 0.95],\n",
    "    \"colsample_bylevel\": [0.1, 0.2, 0.4, 0.6, 0.8, 0.9, 0.95],\n",
    "    \"min_data_in_leaf\": [5, 20, 50, 100, 200, 500], # integer only!\n",
    "    \"max_leaves\": [20, 30, 50, 80, 120, 180, 250, 500],\n",
    "    \"l2_leaf_reg\": [0.1, 1, 5, 10],  # not clear what good values are!\n",
    "    \"model_size_reg\": [0.1, 0.5, 1, 3],  # not clear what good values are!\n",
    "    \"model_shrink_rate\": [0.3, 0.7, 0.9],  # not clear what good values are!\n",
    "    \"random_strength\": [0.001, 0.01, 0.1, 0.5],  # not clear what good values are\n",
    "}"
   ]
  },
  {
   "cell_type": "markdown",
   "id": "4ba2a73f",
   "metadata": {},
   "source": [
    "One can also instantiate a CatBoost model and take a look at the params via the `get_all_params` method to get an idea of all available (hyper)parameters."
   ]
  },
  {
   "cell_type": "markdown",
   "id": "2ac588c2",
   "metadata": {},
   "source": [
    "### Using Catboost Python API"
   ]
  },
  {
   "cell_type": "markdown",
   "id": "be2cae48",
   "metadata": {},
   "source": [
    "Using a native `CatBoost` setup has some advantages in terms of early stopping / overfitting detection. More specifically the attributes `od_type='IncToDec` and `od_wait=20` (wait 20 rounds after overfitting has been detected). However, it has less diagnostics to allow inspection of various tried-out candidate models. For this, see the next section that uses `scikit-learn`."
   ]
  },
  {
   "cell_type": "code",
   "execution_count": 30,
   "id": "9939095e",
   "metadata": {
    "ExecuteTime": {
     "end_time": "2023-08-27T13:41:57.474821Z",
     "start_time": "2023-08-27T13:41:26.104122Z"
    },
    "scrolled": true
   },
   "outputs": [
    {
     "name": "stdout",
     "output_type": "stream",
     "text": [
      "\n",
      "bestTest = 0.80941564\n",
      "bestIteration = 99\n",
      "\n",
      "\n",
      "bestTest = 0.7821249188\n",
      "bestIteration = 499\n",
      "\n",
      "\n",
      "bestTest = -4.07668945\n",
      "bestIteration = 199\n",
      "\n",
      "\n",
      "bestTest = 0.8401752072\n",
      "bestIteration = 164\n",
      "\n",
      "\n",
      "bestTest = 0.8092646391\n",
      "bestIteration = 94\n",
      "\n",
      "\n",
      "bestTest = -4.079826017\n",
      "bestIteration = 199\n",
      "\n",
      "\n",
      "bestTest = 0.8350432776\n",
      "bestIteration = 35\n",
      "\n",
      "\n",
      "bestTest = -0.2626519323\n",
      "bestIteration = 99\n",
      "\n",
      "\n",
      "bestTest = 0.8070427924\n",
      "bestIteration = 499\n",
      "\n",
      "\n",
      "bestTest = 0.6101636888\n",
      "bestIteration = 199\n",
      "\n",
      "Training on fold [0/3]\n",
      "\n",
      "bestTest = 0.8245967314\n",
      "bestIteration = 199\n",
      "\n",
      "Training on fold [1/3]\n",
      "\n",
      "bestTest = 0.8999771874\n",
      "bestIteration = 199\n",
      "\n",
      "Training on fold [2/3]\n",
      "\n",
      "bestTest = 0.8428902539\n",
      "bestIteration = 193\n",
      "\n",
      "The optimal hyperparameter values are: {'depth': 3, 'learning_rate': 0.1, 'iterations': 200}\n",
      "R2 on training set: 0.927, R2 on test set: 0.876\n"
     ]
    }
   ],
   "source": [
    "# Set some parameters\n",
    "n_folds = 3\n",
    "n_hyperparam = 10\n",
    "\n",
    "# Initialize CatBoostRegressor\n",
    "# Separating the fixed and non-fixed params because it will be easier when refitting with tuned params\n",
    "fixed_params = {\n",
    "    \"loss_function\": 'RMSE',\n",
    "    \"eval_metric\": \"R2\",\n",
    "    \"random_seed\": 42, \n",
    "    \"od_type\": \"IncToDec\",  # setup overfitting detection\n",
    "    \"od_wait\": 20,  # 20 wait rounds\n",
    "    \"verbose\": 0\n",
    "}\n",
    "model = CatBoostRegressor(**fixed_params)  # always unpack using ** !\n",
    "\n",
    "# Define hyperparameter grid, we will use a limited grid for educational purposes!\n",
    "param_grid = {'depth': [2, 3, 4, 5, 6],\n",
    "              'learning_rate': [0.001, 0.01, 0.1, 0.5],\n",
    "              'iterations': [100, 200, 500]}\n",
    "\n",
    "# Run randomized search\n",
    "catboost_tuning = model.randomized_search(param_distributions=param_grid,\n",
    "                                          X=df_train_catboost,\n",
    "                                          cv=n_folds,\n",
    "                                          n_iter=n_hyperparam,\n",
    "                                          partition_random_seed=42,  # force split determinism\n",
    "                                          verbose=0)\n",
    "\n",
    "# Only 'winning' result can be extracted via the \"params\" key\n",
    "print(f\"The optimal hyperparameter values are: {catboost_tuning['params']}\")\n",
    "\n",
    "# Re-training the model using the best found hyperparameter\n",
    "model_opt = CatBoostRegressor(**fixed_params, **catboost_tuning[\"params\"])\n",
    "model_opt.fit(df_train_catboost)\n",
    "\n",
    "# Checking the performance of this model\n",
    "# Predictions on train and test set\n",
    "y_hat_train_opt =  model_opt.predict(df_train_catboost)\n",
    "y_hat_test_opt = model_opt.predict(df_test_catboost)\n",
    "\n",
    "# Check performances\n",
    "r2_train_opt = r2_score(y_true=y_train, y_pred=y_hat_train_opt)\n",
    "r2_test_opt = r2_score(y_true=y_test, y_pred=y_hat_test_opt)\n",
    "print(f\"R2 on training set: {r2_train_opt:.3f}, R2 on test set: {r2_test_opt:.3f}\")"
   ]
  },
  {
   "cell_type": "markdown",
   "id": "dac59d47",
   "metadata": {},
   "source": [
    "Trying out 10 different hyperparameters and picking the best one leads to a moderate improvement in test set R-squared."
   ]
  },
  {
   "cell_type": "markdown",
   "id": "7154bc5b",
   "metadata": {},
   "source": [
    "### Using `Scikit-learn` Interface"
   ]
  },
  {
   "cell_type": "markdown",
   "id": "6a9b79c3",
   "metadata": {},
   "source": [
    "At the time of writing, `Catboost` models' built-in `grid_search()` and `random_search()` methods do not give detailed information on their intermediate results, only the winning hyperparameter values are returned. An alternative is to use the `GridSearchCV` and `RandomSearchCV` classes from `scikit-learn`.\n",
    "\n",
    "As is customary, one needs to define a hyperparameter candidate grid as a Python dictionary. Then, the model needs to instantiated with some parameters that you want to fix (e.g. loss function, and the `cat_features` argument to use the efficient categorical encoding that CatBoost uses!). Next, either a `RandomizedSearchCV` or `GridSearchCV` object can be instantiated with the necessary parameters (see example below). Finally the `fit()` method is called and the `cv_results_` attribute is extracted, which can be easily converted to a nice table using `pd.DataFrame()`. Note that, to work with `RandomizedSearchCV` or `GridSearchCV`, you cannot provide Catboosts' built-in data object (`Pool`), but will have to supply `NumPy` arrays or `Pandas` `DataFrame` objects. The conversion to a `Pool` object will -however- still happen within behind-the-scenes as you would want.\n",
    "\n",
    "Note: if you want to use the early stopping detection / overfitting detection from `CatBoost` you will have to write semi-manual hyperparameter loops. (TODO: Seems to be working fine with newest versions?)"
   ]
  },
  {
   "cell_type": "code",
   "execution_count": 37,
   "id": "b98ec441",
   "metadata": {
    "ExecuteTime": {
     "end_time": "2023-08-27T16:08:03.135941Z",
     "start_time": "2023-08-27T16:06:53.527310Z"
    },
    "scrolled": true
   },
   "outputs": [
    {
     "name": "stdout",
     "output_type": "stream",
     "text": [
      "R2 on training set: 0.899, R2 on test set: 0.860\n"
     ]
    }
   ],
   "source": [
    "# Hyperparameter tuning for Catboost regression\n",
    "# Setting some general hyperparameter tuning parameters\n",
    "n_folds = 3  # Amount of cross-validation folds\n",
    "n_hyperparams = 5  # Amount of hyperparameters to sample (in case of RandomizedSearchCV)\n",
    "\n",
    "# Defining a hyperparameter grid\n",
    "param_grid = {'depth': [2, 3, 4, 5, 6],\n",
    "              'learning_rate': [0.001, 0.01, 0.1, 0.5],\n",
    "              'iterations': [100, 200, 500]}\n",
    "\n",
    "# Data splitter\n",
    "k_fold = KFold(n_splits=n_folds)\n",
    "\n",
    "# Initializing a CatBoostRegressor model\n",
    "catboost_reg = CatBoostRegressor(loss_function='RMSE',\n",
    "                                 od_type=\"IncToDec\",\n",
    "                                 od_wait=20,\n",
    "                                 cat_features=cat_feat_names, # This needs to specified here(*)\n",
    "                                 random_seed=42, \n",
    "                                 verbose=0)\n",
    "\n",
    "# Initializing a GridSearchCV or RandomizedSearchCV object\n",
    "hyperparam_tuning = RandomizedSearchCV(estimator=catboost_reg,\n",
    "                                       param_distributions=param_grid, \n",
    "                                       n_iter=n_hyperparams,\n",
    "                                       cv=k_fold, \n",
    "                                       scoring=\"r2\", # or e.g. neg_root_mean_squared_error\n",
    "                                       random_state=42,\n",
    "                                       verbose=0)\n",
    "\n",
    "# (*) Alternatively, if you don't specify cat_feats above, you can still run the fit() method as follows:\n",
    "#hyperparam_tuning.fit(X=X_train[feats], \n",
    "#                      y=y_train, \n",
    "#                      **{'cat_features': cat_feats}) # Providing a dict with 'cat_features' as key\n",
    "\n",
    "# Executing the hyperparameter tuning \n",
    "hyperparam_tuning.fit(X=X_train[feat_names], \n",
    "                      y=y_train)\n",
    "\n",
    "# Getting performance for this model (internally refitted already!)\n",
    "y_hat_train_opt =  hyperparam_tuning.predict(df_train_catboost)\n",
    "y_hat_test_opt = hyperparam_tuning.predict(df_test_catboost)\n",
    "\n",
    "r2_train_opt = r2_score(y_true=y_train, y_pred=y_hat_train_opt)\n",
    "r2_test_opt = r2_score(y_true=y_test, y_pred=y_hat_test_opt)\n",
    "print(f\"R2 on training set: {r2_train_opt:.3f}, R2 on test set: {r2_test_opt:.3f}\")"
   ]
  },
  {
   "cell_type": "code",
   "execution_count": 38,
   "id": "fb2c53e3",
   "metadata": {
    "ExecuteTime": {
     "end_time": "2023-08-27T19:12:04.262016Z",
     "start_time": "2023-08-27T19:12:03.982920Z"
    }
   },
   "outputs": [
    {
     "data": {
      "text/html": [
       "<div>\n",
       "<style scoped>\n",
       "    .dataframe tbody tr th:only-of-type {\n",
       "        vertical-align: middle;\n",
       "    }\n",
       "\n",
       "    .dataframe tbody tr th {\n",
       "        vertical-align: top;\n",
       "    }\n",
       "\n",
       "    .dataframe thead th {\n",
       "        text-align: right;\n",
       "    }\n",
       "</style>\n",
       "<table border=\"1\" class=\"dataframe\">\n",
       "  <thead>\n",
       "    <tr style=\"text-align: right;\">\n",
       "      <th></th>\n",
       "      <th>params</th>\n",
       "      <th>mean_test_score</th>\n",
       "      <th>rank_test_score</th>\n",
       "    </tr>\n",
       "  </thead>\n",
       "  <tbody>\n",
       "    <tr>\n",
       "      <th>0</th>\n",
       "      <td>{'learning_rate': 0.01, 'iterations': 500, 'de...</td>\n",
       "      <td>0.839552</td>\n",
       "      <td>1</td>\n",
       "    </tr>\n",
       "    <tr>\n",
       "      <th>1</th>\n",
       "      <td>{'learning_rate': 0.01, 'iterations': 200, 'de...</td>\n",
       "      <td>0.708389</td>\n",
       "      <td>2</td>\n",
       "    </tr>\n",
       "    <tr>\n",
       "      <th>2</th>\n",
       "      <td>{'learning_rate': 0.01, 'iterations': 100, 'de...</td>\n",
       "      <td>0.590625</td>\n",
       "      <td>3</td>\n",
       "    </tr>\n",
       "    <tr>\n",
       "      <th>3</th>\n",
       "      <td>{'learning_rate': 0.001, 'iterations': 100, 'd...</td>\n",
       "      <td>0.112803</td>\n",
       "      <td>4</td>\n",
       "    </tr>\n",
       "    <tr>\n",
       "      <th>4</th>\n",
       "      <td>{'learning_rate': 0.001, 'iterations': 100, 'd...</td>\n",
       "      <td>0.097176</td>\n",
       "      <td>5</td>\n",
       "    </tr>\n",
       "  </tbody>\n",
       "</table>\n",
       "</div>"
      ],
      "text/plain": [
       "                                              params  mean_test_score  \\\n",
       "0  {'learning_rate': 0.01, 'iterations': 500, 'de...         0.839552   \n",
       "1  {'learning_rate': 0.01, 'iterations': 200, 'de...         0.708389   \n",
       "2  {'learning_rate': 0.01, 'iterations': 100, 'de...         0.590625   \n",
       "3  {'learning_rate': 0.001, 'iterations': 100, 'd...         0.112803   \n",
       "4  {'learning_rate': 0.001, 'iterations': 100, 'd...         0.097176   \n",
       "\n",
       "   rank_test_score  \n",
       "0                1  \n",
       "1                2  \n",
       "2                3  \n",
       "3                4  \n",
       "4                5  "
      ]
     },
     "metadata": {},
     "output_type": "display_data"
    },
    {
     "name": "stdout",
     "output_type": "stream",
     "text": [
      "Optimal hyperparameter values according to random search: {'learning_rate': 0.01, 'iterations': 500, 'depth': 5}\n"
     ]
    }
   ],
   "source": [
    "# Extracting hyperparameter results and diplaying effect\n",
    "hyperparam_tuning_res = (pd.DataFrame(hyperparam_tuning.cv_results_)\n",
    "                         .sort_values(by='rank_test_score', ascending=True)\n",
    "                         .reset_index(drop=True))\n",
    "display(hyperparam_tuning_res[['params', 'mean_test_score', 'rank_test_score']])\n",
    "print(f\"Optimal hyperparameter values according to random search: {hyperparam_tuning_res['params'].iloc[0]}\")"
   ]
  },
  {
   "cell_type": "markdown",
   "id": "807a6277",
   "metadata": {},
   "source": [
    "We can also quickly take a look at how the performance evolves in terms of their rank."
   ]
  },
  {
   "cell_type": "code",
   "execution_count": 39,
   "id": "70ba7633",
   "metadata": {
    "ExecuteTime": {
     "end_time": "2023-08-27T13:35:03.393022Z",
     "start_time": "2023-08-27T13:35:02.896439Z"
    }
   },
   "outputs": [
    {
     "data": {
      "image/png": "[encoded data removed]",
      "text/plain": [
       "<Figure size 640x480 with 1 Axes>"
      ]
     },
     "metadata": {},
     "output_type": "display_data"
    }
   ],
   "source": [
    "plt.plot(hyperparam_tuning_res['rank_test_score'], hyperparam_tuning_res['mean_test_score'], '-o')\n",
    "plt.ylim(0, 1)\n",
    "plt.xlabel('Model performance rank')\n",
    "plt.ylabel('Performance (R2)')\n",
    "plt.title('Catboost regression: model rank vs. cross-validated R2')\n",
    "plt.show()"
   ]
  },
  {
   "cell_type": "markdown",
   "id": "1189461d",
   "metadata": {},
   "source": [
    "## Multi-Quantile Regression Example"
   ]
  },
  {
   "cell_type": "markdown",
   "id": "e0a659a4",
   "metadata": {},
   "source": [
    "CatBoost has built-in support for multi-quantile regression through the `MultiQuantile` loss function. E.g. to estimate (simultanuously) the 0.05 and 0.95th quantile, you can do: `'MultiQuantile:alpha=0.05, 0.95'`. To make this a bit easier for a general list of `alpha` values, let's make a helper function that generates these strings correctly."
   ]
  },
  {
   "cell_type": "code",
   "execution_count": 40,
   "id": "292b6a2d",
   "metadata": {},
   "outputs": [],
   "source": [
    "def generate_catboost_mqr_loss_str(alpha_list: list[float]) -> str:\n",
    "    \"\"\"\n",
    "    Generates the correct CatBoost loss function string for multi quantile regression\n",
    "    based on a given list of alpha values. Note: it's also possible to give more than 2\n",
    "    alpha values (e.g. 0.05; 0.5; 0.95).\n",
    "    Args:\n",
    "        alpha_list (list[float]): List of alpha values to estimate conditional quantile for.\n",
    "        \n",
    "    Returns:\n",
    "        loss_fu_str (str): Loss function string for multi-quantile regression for CatBoost.\n",
    "    \"\"\"\n",
    "    alpha_list_sorted = sorted(alpha_list)\n",
    "    quantile_str = str(alpha_list_sorted).replace('[','').replace(']','')\n",
    "    loss_fu_str = f\"MultiQuantile:alpha={quantile_str}\"\n",
    "    return loss_fu_str"
   ]
  },
  {
   "cell_type": "code",
   "execution_count": 42,
   "id": "cf44c46e",
   "metadata": {},
   "outputs": [
    {
     "name": "stdout",
     "output_type": "stream",
     "text": [
      "Multi-quantile loss function string: MultiQuantile:alpha=0.05, 0.95\n"
     ]
    },
    {
     "data": {
      "text/plain": [
       "<catboost.core.CatBoostRegressor at 0x27d52621ad0>"
      ]
     },
     "execution_count": 42,
     "metadata": {},
     "output_type": "execute_result"
    }
   ],
   "source": [
    "# Hyperparameter tuning for MULTI-QUANTILE Catboost regression\n",
    "# Setting some general hyperparameter tuning parameters\n",
    "n_folds = 3  # Amount of cross-validation folds\n",
    "n_hyperparams = 5  # Amount of hyperparameters to sample (in case of RandomizedSearchCV)\n",
    "\n",
    "# Defining loss function string\n",
    "mqr_loss_function_str = generate_catboost_mqr_loss_str(alpha_list=[0.05, 0.95])\n",
    "print(f\"Multi-quantile loss function string: {mqr_loss_function_str}\")\n",
    "\n",
    "# Defining a hyperparameter grid\n",
    "param_grid = {'depth': [2, 3, 4, 5, 6],\n",
    "              'learning_rate': [0.001, 0.01, 0.1, 0.5],\n",
    "              'iterations': [100, 200, 500]}\n",
    "\n",
    "# Data splitter\n",
    "k_fold = KFold(n_splits=n_folds)\n",
    "\n",
    "# Initializing a CatBoostRegressor model\n",
    "catboost_mqr = CatBoostRegressor(loss_function=mqr_loss_function_str, \n",
    "                                 cat_features=cat_feat_names, # This needs to specified here(*)\n",
    "                                 random_seed=42, \n",
    "                                 verbose=0)\n",
    "\n",
    "catboost_mqr.fit(df_train_catboost)\n",
    "\n",
    "# Get predictions (these are now 2xN arrays!)\n",
    "y_hat_train_lo_hi = catboost_mqr.predict(df_train_catboost)\n",
    "y_hat_test_lo_hi = catboost_mqr.predict(df_test_catboost)"
   ]
  },
  {
   "cell_type": "markdown",
   "id": "a877fc56",
   "metadata": {},
   "source": [
    "__Current issue seems to be that the multi-quantile regression doesn't play nicely with the Scikit-learn interface. Probably we can make it work better or more nicely if we give a 2-column target (just repeat it).__"
   ]
  },
  {
   "cell_type": "code",
   "execution_count": 45,
   "id": "b0f2ea94",
   "metadata": {},
   "outputs": [
    {
     "name": "stdout",
     "output_type": "stream",
     "text": [
      "Multi-quantile loss function string: MultiQuantile:alpha=0.05, 0.95\n"
     ]
    },
    {
     "name": "stderr",
     "output_type": "stream",
     "text": [
      "c:\\mambaforge\\envs\\ml_general\\Lib\\site-packages\\sklearn\\model_selection\\_validation.py:982: UserWarning: Scoring failed. The score on this train-test partition for these parameters will be set to nan. Details: \n",
      "Traceback (most recent call last):\n",
      "  File \"c:\\mambaforge\\envs\\ml_general\\Lib\\site-packages\\sklearn\\model_selection\\_validation.py\", line 971, in _score\n",
      "    scores = scorer(estimator, X_test, y_test, **score_params)\n",
      "             ^^^^^^^^^^^^^^^^^^^^^^^^^^^^^^^^^^^^^^^^^^^^^^^^^\n",
      "  File \"c:\\mambaforge\\envs\\ml_general\\Lib\\site-packages\\sklearn\\metrics\\_scorer.py\", line 455, in __call__\n",
      "    return estimator.score(*args, **kwargs)\n",
      "           ^^^^^^^^^^^^^^^^^^^^^^^^^^^^^^^^\n",
      "  File \"c:\\mambaforge\\envs\\ml_general\\Lib\\site-packages\\catboost\\core.py\", line 5930, in score\n",
      "    raise CatBoostError(msg.format(y.size, predictions.size))\n",
      "_catboost.CatBoostError: labels and predictions should have same size. But y.size=390 != preds.size=780\n",
      "\n",
      "  warnings.warn(\n",
      "c:\\mambaforge\\envs\\ml_general\\Lib\\site-packages\\sklearn\\model_selection\\_validation.py:982: UserWarning: Scoring failed. The score on this train-test partition for these parameters will be set to nan. Details: \n",
      "Traceback (most recent call last):\n",
      "  File \"c:\\mambaforge\\envs\\ml_general\\Lib\\site-packages\\sklearn\\model_selection\\_validation.py\", line 971, in _score\n",
      "    scores = scorer(estimator, X_test, y_test, **score_params)\n",
      "             ^^^^^^^^^^^^^^^^^^^^^^^^^^^^^^^^^^^^^^^^^^^^^^^^^\n",
      "  File \"c:\\mambaforge\\envs\\ml_general\\Lib\\site-packages\\sklearn\\metrics\\_scorer.py\", line 455, in __call__\n",
      "    return estimator.score(*args, **kwargs)\n",
      "           ^^^^^^^^^^^^^^^^^^^^^^^^^^^^^^^^\n",
      "  File \"c:\\mambaforge\\envs\\ml_general\\Lib\\site-packages\\catboost\\core.py\", line 5930, in score\n",
      "    raise CatBoostError(msg.format(y.size, predictions.size))\n",
      "_catboost.CatBoostError: labels and predictions should have same size. But y.size=389 != preds.size=778\n",
      "\n",
      "  warnings.warn(\n",
      "c:\\mambaforge\\envs\\ml_general\\Lib\\site-packages\\sklearn\\model_selection\\_search.py:1052: UserWarning: One or more of the test scores are non-finite: [nan nan nan nan nan]\n",
      "  warnings.warn(\n"
     ]
    }
   ],
   "source": [
    "# Hyperparameter tuning for MULTI-QUANTILE Catboost regression (DOESN'T WORK YET!)\n",
    "# Setting some general hyperparameter tuning parameters\n",
    "n_folds = 3  # Amount of cross-validation folds\n",
    "n_hyperparams = 5  # Amount of hyperparameters to sample (in case of RandomizedSearchCV)\n",
    "\n",
    "# Defining loss function string\n",
    "mqr_loss_function_str = generate_catboost_mqr_loss_str(alpha_list=[0.05, 0.95])\n",
    "print(f\"Multi-quantile loss function string: {mqr_loss_function_str}\")\n",
    "\n",
    "# Defining a hyperparameter grid\n",
    "param_grid = {'depth': [2, 3, 4, 5, 6],\n",
    "              'learning_rate': [0.001, 0.01, 0.1, 0.5],\n",
    "              'iterations': [100, 200, 500]}\n",
    "\n",
    "# Data splitter\n",
    "k_fold = KFold(n_splits=n_folds)\n",
    "\n",
    "# Initializing a CatBoostRegressor model\n",
    "catboost_reg = CatBoostRegressor(loss_function=mqr_loss_function_str, \n",
    "                                 cat_features=cat_feat_names, # This needs to specified here(*)\n",
    "                                 random_seed=42, \n",
    "                                 verbose=0)\n",
    "\n",
    "# Initializing a GridSearchCV or RandomizedSearchCV object\n",
    "hyperparam_tuning = RandomizedSearchCV(estimator=catboost_reg,\n",
    "                                       param_distributions=param_grid, \n",
    "                                       n_iter=n_hyperparams,\n",
    "                                       cv=k_fold, \n",
    "                                       #scoring=\"r2\", # or e.g. neg_root_mean_squared_error\n",
    "                                       random_state=42,\n",
    "                                       verbose=0)\n",
    "\n",
    "# (*) Alternatively, if you don't specify cat_feats above, you can still run the fit() method as follows:\n",
    "#hyperparam_tuning.fit(X=X_train[feats], \n",
    "#                      y=y_train, \n",
    "#                      **{'cat_features': cat_feats}) # Providing a dict with 'cat_features' as key\n",
    "\n",
    "# Executing the hyperparameter tuning \n",
    "hyperparam_tuning.fit(X=X_train[feat_names],\n",
    "                      y=y_train)\n",
    "                      #pd.DataFrame({'SalePrice1': y_train, 'SalePrice2': y_train}))\n",
    "\n",
    "# Extracting the hyperparameter tuning results (.cv_results_ attribute)\n",
    "hyperparam_tuning_res = (pd.DataFrame(hyperparam_tuning.cv_results_)\n",
    "                         .sort_values(by='rank_test_score', ascending=True)\n",
    "                         .reset_index(drop=True))"
   ]
  },
  {
   "cell_type": "markdown",
   "id": "1227a149",
   "metadata": {},
   "source": [
    "# Multi-class Classification Examples"
   ]
  },
  {
   "cell_type": "code",
   "execution_count": 49,
   "id": "b9c28e25",
   "metadata": {
    "ExecuteTime": {
     "end_time": "2023-10-29T14:42:32.277978Z",
     "start_time": "2023-10-29T14:42:32.116617Z"
    }
   },
   "outputs": [
    {
     "name": "stdout",
     "output_type": "stream",
     "text": [
      "df.shape: (1850, 30)\n"
     ]
    },
    {
     "data": {
      "text/html": [
       "<div>\n",
       "<style scoped>\n",
       "    .dataframe tbody tr th:only-of-type {\n",
       "        vertical-align: middle;\n",
       "    }\n",
       "\n",
       "    .dataframe tbody tr th {\n",
       "        vertical-align: top;\n",
       "    }\n",
       "\n",
       "    .dataframe thead th {\n",
       "        text-align: right;\n",
       "    }\n",
       "</style>\n",
       "<table border=\"1\" class=\"dataframe\">\n",
       "  <thead>\n",
       "    <tr style=\"text-align: right;\">\n",
       "      <th></th>\n",
       "      <th>Volume</th>\n",
       "      <th>ConvexHullVolume</th>\n",
       "      <th>CoreVolume</th>\n",
       "      <th>MaxLength</th>\n",
       "      <th>Solidity</th>\n",
       "      <th>CoreOccupacity</th>\n",
       "      <th>Flatness</th>\n",
       "      <th>DendriticDensity</th>\n",
       "      <th>AverageDendriticLength</th>\n",
       "      <th>PH_1</th>\n",
       "      <th>...</th>\n",
       "      <th>PH_12</th>\n",
       "      <th>PH_13</th>\n",
       "      <th>PH_14</th>\n",
       "      <th>PH_15</th>\n",
       "      <th>PH_16</th>\n",
       "      <th>PH_17</th>\n",
       "      <th>PH_18</th>\n",
       "      <th>PH_19</th>\n",
       "      <th>PH_20</th>\n",
       "      <th>Group</th>\n",
       "    </tr>\n",
       "  </thead>\n",
       "  <tbody>\n",
       "    <tr>\n",
       "      <th>1</th>\n",
       "      <td>3947.4</td>\n",
       "      <td>10372.0</td>\n",
       "      <td>2467.1</td>\n",
       "      <td>78.098</td>\n",
       "      <td>0.38057</td>\n",
       "      <td>0.62498</td>\n",
       "      <td>0.39113</td>\n",
       "      <td>0.29450</td>\n",
       "      <td>5.2000</td>\n",
       "      <td>23.187</td>\n",
       "      <td>...</td>\n",
       "      <td>4.0849</td>\n",
       "      <td>2.0639</td>\n",
       "      <td>-5.4207</td>\n",
       "      <td>2.4408</td>\n",
       "      <td>-4.91970</td>\n",
       "      <td>-2.9442</td>\n",
       "      <td>0.22425</td>\n",
       "      <td>-0.283970</td>\n",
       "      <td>2.1986</td>\n",
       "      <td>Aegilops</td>\n",
       "    </tr>\n",
       "    <tr>\n",
       "      <th>2</th>\n",
       "      <td>5389.4</td>\n",
       "      <td>21079.0</td>\n",
       "      <td>2511.3</td>\n",
       "      <td>106.520</td>\n",
       "      <td>0.25567</td>\n",
       "      <td>0.46596</td>\n",
       "      <td>0.34523</td>\n",
       "      <td>0.37552</td>\n",
       "      <td>5.6950</td>\n",
       "      <td>36.117</td>\n",
       "      <td>...</td>\n",
       "      <td>3.6760</td>\n",
       "      <td>4.6085</td>\n",
       "      <td>4.9815</td>\n",
       "      <td>-1.1737</td>\n",
       "      <td>6.47890</td>\n",
       "      <td>4.3371</td>\n",
       "      <td>4.05900</td>\n",
       "      <td>0.052371</td>\n",
       "      <td>-3.3413</td>\n",
       "      <td>Aegilops</td>\n",
       "    </tr>\n",
       "    <tr>\n",
       "      <th>3</th>\n",
       "      <td>4350.8</td>\n",
       "      <td>16094.0</td>\n",
       "      <td>2540.5</td>\n",
       "      <td>123.950</td>\n",
       "      <td>0.27034</td>\n",
       "      <td>0.58391</td>\n",
       "      <td>0.32700</td>\n",
       "      <td>0.35500</td>\n",
       "      <td>3.9659</td>\n",
       "      <td>51.361</td>\n",
       "      <td>...</td>\n",
       "      <td>-1.2202</td>\n",
       "      <td>6.6608</td>\n",
       "      <td>5.7661</td>\n",
       "      <td>-4.6756</td>\n",
       "      <td>-0.58298</td>\n",
       "      <td>-6.0856</td>\n",
       "      <td>-4.37380</td>\n",
       "      <td>-3.345300</td>\n",
       "      <td>-1.9161</td>\n",
       "      <td>Aegilops</td>\n",
       "    </tr>\n",
       "    <tr>\n",
       "      <th>4</th>\n",
       "      <td>4252.2</td>\n",
       "      <td>12999.0</td>\n",
       "      <td>2570.7</td>\n",
       "      <td>72.676</td>\n",
       "      <td>0.32711</td>\n",
       "      <td>0.60456</td>\n",
       "      <td>0.49818</td>\n",
       "      <td>0.33023</td>\n",
       "      <td>3.9667</td>\n",
       "      <td>44.176</td>\n",
       "      <td>...</td>\n",
       "      <td>-5.5900</td>\n",
       "      <td>-0.5165</td>\n",
       "      <td>-2.0048</td>\n",
       "      <td>8.4974</td>\n",
       "      <td>-0.59045</td>\n",
       "      <td>-3.3714</td>\n",
       "      <td>-2.58810</td>\n",
       "      <td>1.268600</td>\n",
       "      <td>-5.9639</td>\n",
       "      <td>Aegilops</td>\n",
       "    </tr>\n",
       "    <tr>\n",
       "      <th>5</th>\n",
       "      <td>3015.1</td>\n",
       "      <td>10202.0</td>\n",
       "      <td>1781.8</td>\n",
       "      <td>90.372</td>\n",
       "      <td>0.29553</td>\n",
       "      <td>0.59096</td>\n",
       "      <td>0.40211</td>\n",
       "      <td>0.39836</td>\n",
       "      <td>4.0417</td>\n",
       "      <td>21.332</td>\n",
       "      <td>...</td>\n",
       "      <td>4.6530</td>\n",
       "      <td>3.6744</td>\n",
       "      <td>-1.4187</td>\n",
       "      <td>-2.1327</td>\n",
       "      <td>-2.39050</td>\n",
       "      <td>-4.4190</td>\n",
       "      <td>1.10420</td>\n",
       "      <td>0.019375</td>\n",
       "      <td>-1.8700</td>\n",
       "      <td>Aegilops</td>\n",
       "    </tr>\n",
       "  </tbody>\n",
       "</table>\n",
       "<p>5 rows × 30 columns</p>\n",
       "</div>"
      ],
      "text/plain": [
       "   Volume  ConvexHullVolume  CoreVolume  MaxLength  Solidity  CoreOccupacity  \\\n",
       "1  3947.4           10372.0      2467.1     78.098   0.38057         0.62498   \n",
       "2  5389.4           21079.0      2511.3    106.520   0.25567         0.46596   \n",
       "3  4350.8           16094.0      2540.5    123.950   0.27034         0.58391   \n",
       "4  4252.2           12999.0      2570.7     72.676   0.32711         0.60456   \n",
       "5  3015.1           10202.0      1781.8     90.372   0.29553         0.59096   \n",
       "\n",
       "   Flatness  DendriticDensity  AverageDendriticLength    PH_1  ...   PH_12  \\\n",
       "1   0.39113           0.29450                  5.2000  23.187  ...  4.0849   \n",
       "2   0.34523           0.37552                  5.6950  36.117  ...  3.6760   \n",
       "3   0.32700           0.35500                  3.9659  51.361  ... -1.2202   \n",
       "4   0.49818           0.33023                  3.9667  44.176  ... -5.5900   \n",
       "5   0.40211           0.39836                  4.0417  21.332  ...  4.6530   \n",
       "\n",
       "    PH_13   PH_14   PH_15    PH_16   PH_17    PH_18     PH_19   PH_20  \\\n",
       "1  2.0639 -5.4207  2.4408 -4.91970 -2.9442  0.22425 -0.283970  2.1986   \n",
       "2  4.6085  4.9815 -1.1737  6.47890  4.3371  4.05900  0.052371 -3.3413   \n",
       "3  6.6608  5.7661 -4.6756 -0.58298 -6.0856 -4.37380 -3.345300 -1.9161   \n",
       "4 -0.5165 -2.0048  8.4974 -0.59045 -3.3714 -2.58810  1.268600 -5.9639   \n",
       "5  3.6744 -1.4187 -2.1327 -2.39050 -4.4190  1.10420  0.019375 -1.8700   \n",
       "\n",
       "      Group  \n",
       "1  Aegilops  \n",
       "2  Aegilops  \n",
       "3  Aegilops  \n",
       "4  Aegilops  \n",
       "5  Aegilops  \n",
       "\n",
       "[5 rows x 30 columns]"
      ]
     },
     "metadata": {},
     "output_type": "display_data"
    }
   ],
   "source": [
    "# Read data\n",
    "df = pd.read_csv(\"C:/Users/Vincent Wauters/Desktop/data_genus_level.csv\",\n",
    "                 sep=\";\",\n",
    "                 decimal=\",\",\n",
    "                 index_col=[0])\n",
    "print(f\"df.shape: {df.shape}\")\n",
    "display(df.head())\n",
    "\n",
    "target_colname = \"Group\"\n",
    "feat_colnames = [x for x in df.columns if x != target_colname]"
   ]
  },
  {
   "cell_type": "markdown",
   "id": "fbe12a2c",
   "metadata": {},
   "source": [
    "We use the scikit-learn `LabelEncoder` to correctly encode the target."
   ]
  },
  {
   "cell_type": "code",
   "execution_count": 50,
   "id": "1e9a5387",
   "metadata": {
    "ExecuteTime": {
     "end_time": "2023-10-29T14:42:37.618009Z",
     "start_time": "2023-10-29T14:42:37.597740Z"
    }
   },
   "outputs": [],
   "source": [
    "# Labelencoder for target\n",
    "from sklearn.preprocessing import LabelEncoder\n",
    "le = LabelEncoder()\n",
    "le.fit(y=df[target_colname])\n",
    "y_train = le.transform(y=df[target_colname])\n",
    "pd.Series(y_train).value_counts()  # Very irregular distribution\n",
    "X_train = df[feat_colnames].copy()"
   ]
  },
  {
   "cell_type": "code",
   "execution_count": 56,
   "id": "31f411ad",
   "metadata": {
    "ExecuteTime": {
     "end_time": "2023-10-29T14:45:35.681333Z",
     "start_time": "2023-10-29T14:42:39.223545Z"
    }
   },
   "outputs": [
    {
     "name": "stdout",
     "output_type": "stream",
     "text": [
      "Fitting 3 folds for each of 5 candidates, totalling 15 fits\n",
      "Optimally found hyperparameter values according to random search: {'learning_rate': 0.1, 'iterations': 200, 'depth': 2}\n"
     ]
    }
   ],
   "source": [
    "# Hyperparameter tuning for Catboost regression\n",
    "# Setting some general hyperparameter tuning parameters\n",
    "n_folds = 3  # Amount of cross-validation folds\n",
    "n_hyperparams = 5  # Amount of hyperparameters to sample (in case of RandomizedSearchCV)\n",
    "\n",
    "# Defining a hyperparameter grid\n",
    "param_grid = {'depth': [2, 3, 4, 5, 6],\n",
    "              'learning_rate': [0.001, 0.01, 0.1, 0.5],\n",
    "              'iterations': [100, 200, 500]}\n",
    "\n",
    "# Initializing a CatBoostRegressor model\n",
    "catboost_reg = CatBoostClassifier(loss_function=\"MultiClass\", \n",
    "                                  cat_features=None,  # No categorical features here!\n",
    "                                  random_seed=42, \n",
    "                                  verbose=0)\n",
    "\n",
    "# Initializing a GridSearchCV or RandomizedSearchCV object\n",
    "hyperparam_tuning = RandomizedSearchCV(estimator=catboost_reg,\n",
    "                                       param_distributions=param_grid, \n",
    "                                       n_iter=n_hyperparams,\n",
    "                                       cv=n_folds,  # Or supply make a KFold or similar object\n",
    "                                       verbose=1)\n",
    "\n",
    "# (*) Alternatively, if you don't specify cat_feats above, you can still run the fit() method as follows:\n",
    "#hyperparam_tuning.fit(X=X_train[feats], \n",
    "#                      y=y_train, \n",
    "#                      **{'cat_features': cat_feats}) # Providing a dict with 'cat_features' as key\n",
    "\n",
    "# Executing the hyperparameter tuning \n",
    "hyperparam_tuning.fit(X=X_train, \n",
    "                      y=y_train)\n",
    "\n",
    "# Extracting the hyperparameter tuning results (.cv_results_ attribute)\n",
    "hyperparam_tuning_res = (pd.DataFrame(hyperparam_tuning.cv_results_)\n",
    "                        .sort_values(by='rank_test_score', ascending=True)\n",
    "                        .reset_index(drop=True))\n",
    "\n",
    "print(f\"Optimally found hyperparameter values according to random search: {hyperparam_tuning_res['params'].iloc[0]}\")\n",
    "\n",
    "# "
   ]
  }
 ],
 "metadata": {
  "kernelspec": {
   "display_name": "Python 3",
   "language": "python",
   "name": "python3"
  },
  "language_info": {
   "codemirror_mode": {
    "name": "ipython",
    "version": 3
   },
   "file_extension": ".py",
   "mimetype": "text/x-python",
   "name": "python",
   "nbconvert_exporter": "python",
   "pygments_lexer": "ipython3",
   "version": "3.11.8"
  },
  "toc": {
   "base_numbering": 1,
   "nav_menu": {},
   "number_sections": true,
   "sideBar": true,
   "skip_h1_title": false,
   "title_cell": "Table of Contents",
   "title_sidebar": "Contents",
   "toc_cell": false,
   "toc_position": {
    "height": "calc(100% - 180px)",
    "left": "10px",
    "top": "150px",
    "width": "384px"
   },
   "toc_section_display": true,
   "toc_window_display": true
  },
  "varInspector": {
   "cols": {
    "lenName": 16,
    "lenType": 16,
    "lenVar": 40
   },
   "kernels_config": {
    "python": {
     "delete_cmd_postfix": "",
     "delete_cmd_prefix": "del ",
     "library": "var_list.py",
     "varRefreshCmd": "print(var_dic_list())"
    },
    "r": {
     "delete_cmd_postfix": ") ",
     "delete_cmd_prefix": "rm(",
     "library": "var_list.r",
     "varRefreshCmd": "cat(var_dic_list()) "
    }
   },
   "types_to_exclude": [
    "module",
    "function",
    "builtin_function_or_method",
    "instance",
    "_Feature"
   ],
   "window_display": false
  }
 },
 "nbformat": 4,
 "nbformat_minor": 5
}
